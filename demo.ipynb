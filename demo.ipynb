{
 "cells": [
  {
   "cell_type": "code",
   "execution_count": 2,
   "id": "642104d9",
   "metadata": {},
   "outputs": [],
   "source": [
    "from stephen import InverseMonoidPresentation, Stephen"
   ]
  },
  {
   "cell_type": "code",
   "execution_count": 4,
   "id": "9b9c98b6",
   "metadata": {},
   "outputs": [
    {
     "data": {
      "text/plain": [
       "13"
      ]
     },
     "execution_count": 4,
     "metadata": {},
     "output_type": "execute_result"
    }
   ],
   "source": [
    "P = InverseMonoidPresentation()\n",
    "P.set_alphabet(\"xy\")\n",
    "P.add_relation(\"xxx\", \"x\")\n",
    "P.add_relation(\"yyyyy\", \"y\")\n",
    "P.add_relation(\"xyxy\", \"xx\")\n",
    "S = Stephen(P)\n",
    "S.size()"
   ]
  },
  {
   "cell_type": "code",
   "execution_count": 5,
   "id": "6b745824",
   "metadata": {},
   "outputs": [
    {
     "data": {
      "text/plain": [
       "3"
      ]
     },
     "execution_count": 5,
     "metadata": {},
     "output_type": "execute_result"
    }
   ],
   "source": [
    "S.number_of_r_classes()"
   ]
  },
  {
   "cell_type": "code",
   "execution_count": null,
   "id": "fa79e100",
   "metadata": {},
   "outputs": [],
   "source": []
  }
 ],
 "metadata": {
  "kernelspec": {
   "display_name": "Python 3",
   "language": "python",
   "name": "python3"
  },
  "language_info": {
   "codemirror_mode": {
    "name": "ipython",
    "version": 3
   },
   "file_extension": ".py",
   "mimetype": "text/x-python",
   "name": "python",
   "nbconvert_exporter": "python",
   "pygments_lexer": "ipython3",
   "version": "3.9.6"
  }
 },
 "nbformat": 4,
 "nbformat_minor": 5
}
